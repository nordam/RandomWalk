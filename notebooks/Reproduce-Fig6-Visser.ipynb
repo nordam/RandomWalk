{
 "cells": [
  {
   "cell_type": "code",
   "execution_count": 1,
   "metadata": {
    "collapsed": true
   },
   "outputs": [],
   "source": [
    "# Import numpy and matplotlib, and use jupyter magic to\n",
    "# get plots directly in notebook\n",
    "import numpy as np\n",
    "import matplotlib\n",
    "%matplotlib inline\n",
    "from matplotlib import pyplot as plt\n",
    "# Get nicer looking plots than default\n",
    "plt.style.use('bmh')\n",
    "# Timer to measure the performance of methods\n",
    "from time import time"
   ]
  },
  {
   "cell_type": "code",
   "execution_count": 2,
   "metadata": {
    "collapsed": true
   },
   "outputs": [],
   "source": [
    "################\n",
    "#### Visser ####\n",
    "################\n",
    "\n",
    "def ddz(K, z):\n",
    "    # This function calculates a numerical derivative of K(z),\n",
    "    # using central or one-sided finite difference\n",
    "    dz = 1e-6\n",
    "    return np.where(z + dz > 0.0, (K(z) - K(z-dz)) / dz, (K(z+dz/2) - K(z-dz/2))/dz)\n",
    "\n",
    "def step(K, z, dt):\n",
    "    # Calculate new position after a random step\n",
    "    # Implemented according to Visser:\n",
    "    # Visser A., Mar Ecol Prog Ser, Vol. 158, pp 275-281, 1997\n",
    "    Np = z.size\n",
    "    dKdz = ddz(K, z)\n",
    "    R = 2*np.random.random(size = Np) - 1\n",
    "    r = 1.0/3\n",
    "    return z + dKdz*dt + R*np.sqrt(( K(z+dKdz*dt/2) *dt*2/r))\n",
    "\n",
    "\n",
    "###########################\n",
    "#### Utility functions ####\n",
    "###########################\n",
    "\n",
    "def advect(z, v, dt):\n",
    "    # Move all particles\n",
    "    # Assuming constant speed (at least within a timestep)\n",
    "    return z + dt*v\n",
    "\n",
    "def reflect(z, bottom = None):\n",
    "    # Reflect from surface and optionally bottom\n",
    "    # Depth is positive downwards\n",
    "    # Reflect from surface\n",
    "    z = np.abs(z)\n",
    "    if bottom is not None:\n",
    "        # Reflect from bottom\n",
    "        z[z > bottom] = 2*bottom - z[z > bottom]\n",
    "    return z\n",
    "\n",
    "\n",
    "##############################\n",
    "#### Diffusivity profiles ####\n",
    "##############################\n",
    "\n",
    "def linearexponential(z):\n",
    "    # Sort-of realistic looking diffusivity profile\n",
    "    # Increases linearly from surface, then decays\n",
    "    # Reaches a maximum at depth 1/alpha\n",
    "    k0 = 1e-3\n",
    "    k1 = 6e-3\n",
    "    alpha = 0.5\n",
    "    return k0 + k1*z*np.exp(-z*alpha)"
   ]
  },
  {
   "cell_type": "code",
   "execution_count": 8,
   "metadata": {
    "collapsed": false
   },
   "outputs": [
    {
     "name": "stdout",
     "output_type": "stream",
     "text": [
      "Elapsed time:  1.3243498802185059\n"
     ]
    }
   ],
   "source": [
    "#### Numerical parameters ####\n",
    "Tmax = 6 * 3600\n",
    "dt   = 10\n",
    "Np   = 4000\n",
    "Nt   = int(Tmax / dt)\n",
    "\n",
    "#### Sinking speed ####\n",
    "v = 1e-3\n",
    "\n",
    "#### Diffusivity profile ####\n",
    "K = linearexponential\n",
    "\n",
    "#### Initial distribution ####\n",
    "Z = np.random.uniform(low = 8, high = 10, size = Np)\n",
    "\n",
    "#### Array to keep result ####\n",
    "count = np.zeros(Nt)\n",
    "\n",
    "tic = time()\n",
    "\n",
    "#### Perform simulation ####\n",
    "for n in range(Nt):\n",
    "    # Count particles in top 5 m\n",
    "    count[n] = np.sum(Z < 5)\n",
    "    # Perform random walk\n",
    "    Z = step(K, Z, dt)\n",
    "    # Reflect from surface\n",
    "    Z = reflect(Z)\n",
    "    # Apply sinking velocity\n",
    "    Z = advect(Z, v, dt)\n",
    "    \n",
    "toc = time()\n",
    "\n",
    "print('Elapsed time: ', toc - tic)"
   ]
  },
  {
   "cell_type": "code",
   "execution_count": 9,
   "metadata": {
    "collapsed": false
   },
   "outputs": [
    {
     "data": {
      "text/plain": [
       "Text(0,0.5,'Particles')"
      ]
     },
     "execution_count": 9,
     "metadata": {},
     "output_type": "execute_result"
    },
    {
     "data": {
      "image/png": "[encoded data removed]",
      "text/plain": [
       "<matplotlib.figure.Figure at 0x1181ab7b8>"
      ]
     },
     "metadata": {},
     "output_type": "display_data"
    }
   ],
   "source": [
    "times = np.arange(0, Tmax, dt)\n",
    "\n",
    "plt.plot(times / 3600, count)\n",
    "plt.xlabel('Time [h]')\n",
    "plt.ylabel('Particles')"
   ]
  }
 ],
 "metadata": {
  "anaconda-cloud": {},
  "kernelspec": {
   "display_name": "Python [Root]",
   "language": "python",
   "name": "Python [Root]"
  },
  "language_info": {
   "codemirror_mode": {
    "name": "ipython",
    "version": 3
   },
   "file_extension": ".py",
   "mimetype": "text/x-python",
   "name": "python",
   "nbconvert_exporter": "python",
   "pygments_lexer": "ipython3",
   "version": "3.5.1"
  }
 },
 "nbformat": 4,
 "nbformat_minor": 0
}
